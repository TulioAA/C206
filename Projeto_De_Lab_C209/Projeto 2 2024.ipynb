{
 "cells": [
  {
   "cell_type": "markdown",
   "metadata": {},
   "source": [
    "Plano detalhado \n",
    "Para transformar o vídeo inicial no vídeo final, seguem as etapas e técnicas que serão utilizadas:\n",
    "\n",
    "Inversão da Imagem a Cada 20 Segundos, criação de uma função para inverter a imagem no eixo vertical a cada 20 segundos utilizando o clip.fl.\n",
    "Diminuição Gradativa do Volume do Áudio, criação de uma função decrease para diminuir o volume do áudio gradativamente ao longo do tempo, com os últimos 10 segundos ficando em silêncio usando audio.fl.\n",
    "Reordenamento dos Segmentos do Vídeo para fazer o corte do segmento entre 60 e 80 segundos e reordenar os segmentos, colocando o segmento cortado no final do vídeo."
   ]
  },
  {
   "cell_type": "code",
   "execution_count": 1,
   "metadata": {},
   "outputs": [],
   "source": [
    "import numpy as np\n",
    "import moviepy.editor as mpe"
   ]
  },
  {
   "cell_type": "code",
   "execution_count": 2,
   "metadata": {},
   "outputs": [],
   "source": [
    "video = mpe.VideoFileClip(\"video_trabalho.mp4\")\n",
    "audio = video.audio\n",
    "duracao_total = video.duration\n",
    "# Função para inverter a imagem no eixo vertical\n",
    "def inverter(frame):\n",
    "    return np.flip(frame, axis=0)  \n",
    "# Função para processar o vídeo e inverter a cada 20 segundos\n",
    "def processando(clip):\n",
    "    def inverter_20(get_frame, t):\n",
    "        if int(t) // 20 % 2 == 1:\n",
    "            frame = get_frame(t)\n",
    "            return inverter(frame)\n",
    "        else:\n",
    "            return get_frame(t)\n",
    "    return clip.fl(inverter_20)\n",
    "# Aplica a inversão ao vídeo\n",
    "video_invertido = processando(video)"
   ]
  },
  {
   "cell_type": "code",
   "execution_count": 3,
   "metadata": {},
   "outputs": [],
   "source": [
    "# Função para diminuir o volume do áudio gradativamente\n",
    "def decrease(get_audio_frame, t):\n",
    "    frame = get_audio_frame(t)\n",
    "    if isinstance(t, np.ndarray):\n",
    "        mask = t >= duracao_total - 10\n",
    "        fator = np.where(mask, 0.0, 1.0 - t / (duracao_total - 10))\n",
    "    else:\n",
    "        if t >= duracao_total - 10:\n",
    "            fator = 0.0\n",
    "        else:\n",
    "            fator = 1.0 - t / (duracao_total - 10)\n",
    "    if frame.ndim == 1:\n",
    "        frame *= fator\n",
    "    else:\n",
    "        frame[:, 0] *= fator  \n",
    "        frame[:, 1] *= fator  \n",
    "    return frame\n",
    "# Aplica a diminuição gradativa do volume ao áudio\n",
    "audio_decrease = audio.fl(decrease)\n",
    "# Combina o vídeo invertido com o áudio com volume ajustado\n",
    "video_semi = video_invertido.set_audio(audio_decrease)"
   ]
  },
  {
   "cell_type": "code",
   "execution_count": 4,
   "metadata": {},
   "outputs": [
    {
     "name": "stdout",
     "output_type": "stream",
     "text": [
      "Moviepy - Building video video_final.mp4.\n",
      "MoviePy - Writing audio in video_finalTEMP_MPY_wvf_snd.mp3\n"
     ]
    },
    {
     "name": "stderr",
     "output_type": "stream",
     "text": [
      "                                                                      \r"
     ]
    },
    {
     "name": "stdout",
     "output_type": "stream",
     "text": [
      "MoviePy - Done.\n",
      "Moviepy - Writing video video_final.mp4\n",
      "\n"
     ]
    },
    {
     "name": "stderr",
     "output_type": "stream",
     "text": [
      "                                                                 \r"
     ]
    },
    {
     "name": "stdout",
     "output_type": "stream",
     "text": [
      "Moviepy - Done !\n",
      "Moviepy - video ready video_final.mp4\n"
     ]
    }
   ],
   "source": [
    "# Segmentação do vídeo\n",
    "seg1 = video_semi.subclip(0, 60)\n",
    "seg2 = video_semi.subclip(60, 80)\n",
    "seg3 = video_semi.subclip(80)\n",
    "# Reordena os segmentos, colocando o segmento de 60 a 80 segundos no final\n",
    "video_final = mpe.concatenate_videoclips([seg1, seg3, seg2])\n",
    "# Exporta o vídeo final com todas as transformações aplicadas\n",
    "video_final.write_videofile(\"video_final.mp4\", codec='libx264')"
   ]
  }
 ],
 "metadata": {
  "kernelspec": {
   "display_name": "Python 3",
   "language": "python",
   "name": "python3"
  },
  "language_info": {
   "codemirror_mode": {
    "name": "ipython",
    "version": 3
   },
   "file_extension": ".py",
   "mimetype": "text/x-python",
   "name": "python",
   "nbconvert_exporter": "python",
   "pygments_lexer": "ipython3",
   "version": "3.12.5"
  }
 },
 "nbformat": 4,
 "nbformat_minor": 2
}
